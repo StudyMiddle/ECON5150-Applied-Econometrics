{
 "cells": [
  {
   "attachments": {},
   "cell_type": "markdown",
   "id": "9276a3ac",
   "metadata": {
    "slideshow": {
     "slide_type": "slide"
    }
   },
   "source": [
    "# Time Series\n",
    "\n",
    "Zhentao Shi\n",
    "\n",
    "<!-- code is tested on SCRP -->"
   ]
  },
  {
   "cell_type": "code",
   "execution_count": null,
   "id": "ae217cbd",
   "metadata": {
    "slideshow": {
     "slide_type": "slide"
    },
    "vscode": {
     "languageId": "r"
    }
   },
   "outputs": [],
   "source": [
    "library(magrittr)\n",
    "library(dplyr)\n",
    "library(zoo)\n",
    "library(rvest)\n"
   ]
  },
  {
   "cell_type": "markdown",
   "id": "4d4bbd6b",
   "metadata": {
    "slideshow": {
     "slide_type": "slide"
    }
   },
   "source": [
    "## Time Series\n",
    "\n",
    "- Macroeconomics\n",
    "  - 国家统计局 [National Bureau of Statistics](https://data.stats.gov.cn/easyquery.htm?cn=B01)\n",
    "  - Federal Reserve [FRED database](https://research.stlouisfed.org/econ/mccracken/fred-databases/)\n",
    "- Financial\n",
    "  - [Yahoo Finance](https://finance.yahoo.com/)"
   ]
  },
  {
   "attachments": {},
   "cell_type": "markdown",
   "id": "d952df6d",
   "metadata": {},
   "source": [
    "## China's GDP Growth Rate\n",
    "\n",
    "* [From World Bank](https://data.worldbank.org/indicator/NY.GDP.MKTP.KD.ZG?locations=CN)\n"
   ]
  },
  {
   "cell_type": "markdown",
   "id": "ac86698f",
   "metadata": {
    "slideshow": {
     "slide_type": "slide"
    }
   },
   "source": [
    "## Finance Data\n",
    "\n",
    "\n",
    "* [Yahoo Finance](https://finance.yahoo.com/)\n",
    "\n",
    "* Tick `AAPL` for *Apple Inc.* \n",
    "  * Package `quantmod`"
   ]
  },
  {
   "cell_type": "code",
   "execution_count": null,
   "id": "e4a164e0",
   "metadata": {
    "slideshow": {
     "slide_type": "subslide"
    },
    "vscode": {
     "languageId": "r"
    }
   },
   "outputs": [],
   "source": [
    "quantmod::getSymbols(\"AAPL\", src = \"yahoo\")\n",
    "tail(AAPL)\n",
    "plot(AAPL$AAPL.Close)"
   ]
  },
  {
   "cell_type": "markdown",
   "id": "4a40d66c",
   "metadata": {
    "slideshow": {
     "slide_type": "slide"
    }
   },
   "source": [
    "### Shanghai Composite Index"
   ]
  },
  {
   "cell_type": "code",
   "execution_count": null,
   "id": "3471f635",
   "metadata": {
    "slideshow": {
     "slide_type": "fragment"
    },
    "vscode": {
     "languageId": "r"
    }
   },
   "outputs": [],
   "source": [
    "tick = \"000001.SS\" # need to find the tick \n",
    "SH <- quantmod::getSymbols(tick, auto.assign = FALSE, \n",
    "         from = \"2000-01-01\")[, paste0(tick,\".Close\")]\n",
    "\n",
    "plot(SH)"
   ]
  },
  {
   "cell_type": "markdown",
   "id": "f15f1a2d",
   "metadata": {
    "slideshow": {
     "slide_type": "slide"
    }
   },
   "source": [
    "### 000001.SS Return"
   ]
  },
  {
   "cell_type": "code",
   "execution_count": null,
   "id": "ed9b3548",
   "metadata": {
    "slideshow": {
     "slide_type": "fragment"
    },
    "vscode": {
     "languageId": "r"
    }
   },
   "outputs": [],
   "source": [
    "diff(log(SH)) %>% plot"
   ]
  },
  {
   "cell_type": "markdown",
   "id": "4319f4cf",
   "metadata": {
    "slideshow": {
     "slide_type": "slide"
    }
   },
   "source": [
    "### Bitcoin"
   ]
  },
  {
   "cell_type": "code",
   "execution_count": null,
   "id": "9a9e69ed",
   "metadata": {
    "slideshow": {
     "slide_type": "fragment"
    },
    "vscode": {
     "languageId": "r"
    }
   },
   "outputs": [],
   "source": [
    "BTC <- quantmod::getSymbols(\"BTC-USD\",auto.assign = FALSE, from = \"2021-07-01\")[,4]\n",
    "plot(BTC)\n",
    "\n",
    "ETH <- quantmod::getSymbols(\"ETH-USD\",auto.assign = FALSE, from = \"2021-07-01\")[,4]\n",
    "plot(ETH)\n",
    "\n",
    "plot( x = as.vector(ETH), y = as.vector(BTC), type = \"l\")"
   ]
  }
 ],
 "metadata": {
  "celltoolbar": "Slideshow",
  "kernelspec": {
   "display_name": "R",
   "language": "R",
   "name": "ir"
  },
  "language_info": {
   "codemirror_mode": "r",
   "file_extension": ".r",
   "mimetype": "text/x-r-source",
   "name": "R",
   "pygments_lexer": "r",
   "version": "4.3.1"
  },
  "rise": {
   "enable_chalkboard": true,
   "scroll": true,
   "theme": "serif"
  }
 },
 "nbformat": 4,
 "nbformat_minor": 5
}

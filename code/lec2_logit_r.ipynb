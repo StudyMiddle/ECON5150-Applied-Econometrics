{
 "cells": [
  {
   "attachments": {},
   "cell_type": "markdown",
   "metadata": {},
   "source": [
    "# Logistic Regression\n",
    "\n",
    "A local model in the single index. \n",
    "\n",
    "The model is $E[y_i | x_i] = 1/(1+\\exp(-(x_i + \\mu)))$, where $\\mu$ is the unknonw parameter to be estimated."
   ]
  },
  {
   "cell_type": "code",
   "execution_count": null,
   "metadata": {
    "vscode": {
     "languageId": "r"
    }
   },
   "outputs": [],
   "source": [
    "# generate data from the classic random utility model\n",
    "\n",
    "rm(list = ls())\n",
    "\n",
    "n  = 100000\n",
    "beta_true = 0.2\n",
    "\n",
    "X = runif(n) - 0.5 \n",
    "\n",
    "e = rlogis(n, 0, 1)\n",
    "y_star = X + beta_true - e\n",
    "y = y_star > 0"
   ]
  },
  {
   "cell_type": "code",
   "execution_count": null,
   "metadata": {
    "vscode": {
     "languageId": "r"
    }
   },
   "outputs": [],
   "source": [
    "# the sample objective function (negative log-likelihood)\n",
    "\n",
    "neg_log_lik = function(param, y, X) {\n",
    "  # calculate the linear predictor\n",
    "  z = X + param\n",
    "  p = 1 / (1 + exp(-z))\n",
    "  \n",
    "  # calculate the negative log-likelihood\n",
    "  nll  = -mean( y * log(p) + (1 - y) * log(1 - p) )\n",
    "  \n",
    "  return(nll)\n",
    "}\n"
   ]
  },
  {
   "cell_type": "code",
   "execution_count": null,
   "metadata": {
    "vscode": {
     "languageId": "r"
    }
   },
   "outputs": [],
   "source": [
    "# the population objective function (negative expected log-likelihood)\n",
    "\n",
    "neg_E_log_lik = function(param, beta_true, X) {\n",
    "  # calculate the linear predictor\n",
    "  z = X + param\n",
    "  \n",
    "  # calculate the predicted probabilities\n",
    "  p = 1 / (1 + exp(-z))\n",
    "  p_true = 1 / (1 + exp(-X - beta_true))\n",
    "  \n",
    "  nll = -mean( p_true * log(p) + (1 - p_true) * log(1 - p) )\n",
    "  \n",
    "  return(nll)\n",
    "}\n"
   ]
  },
  {
   "cell_type": "code",
   "execution_count": null,
   "metadata": {
    "vscode": {
     "languageId": "r"
    }
   },
   "outputs": [],
   "source": [
    "b_base = seq(beta_true - 0.5, beta_true + 0.5, length.out = 101)\n",
    "\n",
    "log_v = matrix(NA, length(b_base), 2)\n",
    "\n",
    "for (i in 1:length(b_base)) {\n",
    "  log_v[i,1] = neg_log_lik(b_base[i], y, X)\n",
    "  log_v[i,2] = neg_E_log_lik(b_base[i], beta_true, X)\n",
    "}\n"
   ]
  },
  {
   "cell_type": "code",
   "execution_count": null,
   "metadata": {
    "vscode": {
     "languageId": "r"
    }
   },
   "outputs": [],
   "source": [
    "\n",
    "# plot the negative log-likelihood\n",
    "matplot(b_base, log_v, type = \"l\", lwd = 2, col = c(\"blue\", \"green\"), lty =1,\n",
    "     xlab = expression(beta), ylab = \"Negative Log-Likelihood\")\n",
    "abline(v = beta_true, col = \"black\", lwd = 2, lty = 2)\n",
    "legend(\"topright\", legend = c(\"NLL\", \"NLL0\"), col = c(\"blue\", \"green\"), lwd = 2, lty = 1)\n",
    "\n"
   ]
  },
  {
   "cell_type": "code",
   "execution_count": null,
   "metadata": {
    "vscode": {
     "languageId": "r"
    }
   },
   "outputs": [],
   "source": []
  }
 ],
 "metadata": {
  "kernelspec": {
   "display_name": "R",
   "language": "R",
   "name": "ir"
  },
  "language_info": {
   "codemirror_mode": "r",
   "file_extension": ".r",
   "mimetype": "text/x-r-source",
   "name": "R",
   "pygments_lexer": "r",
   "version": "3.6.1"
  },
  "orig_nbformat": 4
 },
 "nbformat": 4,
 "nbformat_minor": 2
}

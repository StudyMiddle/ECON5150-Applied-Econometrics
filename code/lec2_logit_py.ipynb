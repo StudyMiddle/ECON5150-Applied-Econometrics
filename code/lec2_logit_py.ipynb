{
 "cells": [
  {
   "attachments": {},
   "cell_type": "markdown",
   "metadata": {},
   "source": [
    "# Logistic Regression\n",
    "\n",
    "A local model in the single index. \n",
    "\n",
    "The model is $E[y_i | x_i] = 1/(1+\\exp(-(x_i + \\mu)))$, where $\\mu$ is the unknonw parameter to be estimated."
   ]
  },
  {
   "cell_type": "code",
   "execution_count": null,
   "metadata": {},
   "outputs": [],
   "source": [
    "# translate the following R code into python\n",
    "\n",
    "import numpy as np\n",
    "import matplotlib.pyplot as plt\n",
    "\n",
    "n  = 100\n",
    "mu_true = 0.2\n",
    "\n",
    "X = np.random.rand(n) - 0.5 # uniform on [-0.5, 0.5]\n"
   ]
  },
  {
   "cell_type": "code",
   "execution_count": null,
   "metadata": {},
   "outputs": [],
   "source": [
    "# the sample objective function (negative log-likelihood)\n",
    "\n",
    "def neg_log_lik(param, y, X):\n",
    "    # calculate the linear predictor\n",
    "    z = X + param\n",
    "    p = 1 / (1 + np.exp(-z))\n",
    "    \n",
    "    # calculate the negative log-likelihood\n",
    "    nll  = -np.mean( y * np.log(p) + (1 - y) * np.log(1 - p) )\n",
    "    \n",
    "    return(nll)\n"
   ]
  },
  {
   "cell_type": "code",
   "execution_count": null,
   "metadata": {},
   "outputs": [],
   "source": [
    "# the population objective function (negative expected log-likelihood)\n",
    "\n",
    "def neg_E_log_lik(param, param_true, X):\n",
    "    # calculate the linear predictor\n",
    "    z = X + param\n",
    "    \n",
    "    # calculate the predicted probabilities\n",
    "    p = 1 / (1 + np.exp(-z))\n",
    "    p_true = 1 / (1 + np.exp(-X - param_true))\n",
    "    \n",
    "    nll = -np.mean( p_true * np.log(p) + (1 - p_true) * np.log(1 - p) )\n",
    "    \n",
    "    return(nll)\n"
   ]
  },
  {
   "cell_type": "code",
   "execution_count": null,
   "metadata": {},
   "outputs": [],
   "source": [
    "e = np.random.logistic(0, 1, n)\n",
    "\n",
    "y_star = X + mu_true - e\n",
    "y = y_star > 0\n",
    "b_base = np.linspace(mu_true - 0.5, mu_true + 0.5, 101)\n",
    "log_v = np.zeros((len(b_base), 2))\n",
    "\n",
    "\n",
    "\n",
    "for i in range(len(b_base)):\n",
    "    log_v[i,0] = neg_log_lik(b_base[i], y, X)\n",
    "    log_v[i,1] = neg_E_log_lik(b_base[i], mu_true, X)\n",
    "\n",
    "\n",
    "# plot\n",
    "\n",
    "plt.plot(b_base, log_v[:,0], color = \"blue\", linewidth = 2)\n",
    "plt.plot(b_base, log_v[:,1], color = \"green\", linewidth = 2)\n",
    "plt.ylim(0.67, 0.71)\n",
    "plt.axvline(x = mu_true, color = \"black\", linewidth = 2, linestyle = \"--\")\n",
    "plt.xlabel(\"mu\")\n",
    "plt.ylabel(\"Negative Log-Likelihood\")\n",
    "plt.legend([\"NLL\", \"NLL0\"])\n",
    "plt.show()\n",
    "\n"
   ]
  },
  {
   "cell_type": "markdown",
   "metadata": {
    "vscode": {
     "languageId": "r"
    }
   },
   "source": [
    "**Experience**:\n",
    "\n",
    "This python code is translated by copilot from R code. The translation is very useful, with high acccuracy."
   ]
  },
  {
   "cell_type": "markdown",
   "metadata": {},
   "source": []
  }
 ],
 "metadata": {
  "kernelspec": {
   "display_name": "tf_env",
   "language": "python",
   "name": "python3"
  },
  "language_info": {
   "codemirror_mode": {
    "name": "ipython",
    "version": 3
   },
   "file_extension": ".py",
   "mimetype": "text/x-python",
   "name": "python",
   "nbconvert_exporter": "python",
   "pygments_lexer": "ipython3",
   "version": "3.10.12"
  },
  "orig_nbformat": 4
 },
 "nbformat": 4,
 "nbformat_minor": 2
}

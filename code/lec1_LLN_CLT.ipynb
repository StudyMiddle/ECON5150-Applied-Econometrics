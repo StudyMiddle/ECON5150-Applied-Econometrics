{
 "cells": [
  {
   "cell_type": "markdown",
   "id": "2f1635d2",
   "metadata": {
    "pycharm": {
     "name": "#%% md\n"
    }
   },
   "source": [
    "# Asymptotics\n"
   ]
  },
  {
   "cell_type": "markdown",
   "id": "27a67e98",
   "metadata": {
    "pycharm": {
     "name": "#%% md\n"
    }
   },
   "source": [
    "## Law of Large Numbers\n",
    "\n",
    "**Example** \n",
    "\n",
    "This script demonstrates LLN along with the underlying assumptions.\n",
    "Consider three distributions: standard normal $N\\left(0,1\\right)$,\n",
    "$t\\left(2\\right)$ (zero mean, infinite variance), and the Cauchy\n",
    "distribution (no moments exist). We plot paths of the sample average\n",
    "with $n=2^{1},2^{2},\\ldots,2^{20}$. We will see that the sample averages\n",
    "of $N\\left(0,1\\right)$ and $t\\left(2\\right)$ converge, but that of the\n",
    "Cauchy distribution does not."
   ]
  },
  {
   "cell_type": "code",
   "execution_count": null,
   "id": "c059833a",
   "metadata": {
    "pycharm": {
     "is_executing": true,
     "name": "#%%\n"
    },
    "vscode": {
     "languageId": "r"
    }
   },
   "outputs": [],
   "source": [
    "sample.mean = function( n, distribution ){\n",
    "\n",
    "  if (distribution == \"normal\"){ y = rnorm( n ) } \n",
    "  else if (distribution == \"t2\") {y = rt(n, 2) }\n",
    "  else if (distribution == \"cauchy\") {y = rcauchy(n) }\n",
    "  return( mean(y) )\n",
    "}"
   ]
  },
  {
   "cell_type": "markdown",
   "id": "159ba664",
   "metadata": {
    "pycharm": {
     "name": "#%% md\n"
    }
   },
   "source": [
    "This function plots the sample mean over the path of geometrically increasing sample sizes."
   ]
  },
  {
   "cell_type": "code",
   "execution_count": null,
   "id": "4cf64fb6",
   "metadata": {
    "pycharm": {
     "name": "#%%\n"
    },
    "vscode": {
     "languageId": "r"
    }
   },
   "outputs": [],
   "source": [
    "LLN.plot = function(distribution){\n",
    "  # draw the sample mean graph\n",
    "\n",
    "  ybar = matrix(0, length(NN), 3 )\n",
    "  for (rr in 1:3){\n",
    "    for ( ii in 1:length(NN)){\n",
    "      n = NN[ii]; ybar[ii, rr] = sample.mean(n, distribution)\n",
    "    }  \n",
    "  }\n",
    "  matplot(ybar, type = \"l\", ylab = \"mean\", xlab = \"\", \n",
    "       lwd = 1, lty = 1, main = distribution,\n",
    "       ylim = c(-2, 2) )\n",
    "\n",
    "  abline(h = 0, lty = 2)\n",
    "  return(ybar)\n",
    "}\n",
    "\n",
    "# calculation\n",
    "NN = 2^(1:20)\n",
    "\n",
    "par(mfrow = c(3,1))\n",
    "l1 = LLN.plot(\"normal\"); l2 = LLN.plot(\"t2\"); l3 = LLN.plot(\"cauchy\")"
   ]
  },
  {
   "cell_type": "markdown",
   "id": "77d5cc8d",
   "metadata": {
    "pycharm": {
     "name": "#%% md\n"
    }
   },
   "source": [
    "## Centeral Limit Theorem\n",
    "\n",
    "\n",
    "**Example**\n",
    "\n",
    "$\\chi^2(2)$ distribution with sample sizes $n=2$, $10$, and $100$."
   ]
  },
  {
   "cell_type": "code",
   "execution_count": null,
   "id": "33978c0b",
   "metadata": {
    "pycharm": {
     "name": "#%%\n"
    },
    "vscode": {
     "languageId": "r"
    }
   },
   "outputs": [],
   "source": [
    "Z_fun = function(n, distribution){\n",
    "  if (distribution == \"normal\"){\n",
    "      z = sqrt(n) * mean(rnorm(n))\n",
    "\t} else if (distribution == \"chisq2\") {\n",
    "      df = 2; \n",
    "      x = rchisq(n,2)\n",
    "      z = sqrt(n) * ( mean(x) - df ) / sqrt(2*df)\n",
    "      }\n",
    "  return (z)\n",
    "}\n",
    "\n",
    "CLT_plot = function(n, distribution){\n",
    "  Rep = 10000\n",
    "  ZZ = rep(0, Rep)\n",
    "  for (i in 1:Rep) {ZZ[i] = Z_fun(n, distribution)}\n",
    "\n",
    "  xbase = seq(-4.0, 4.0, length.out = 100)\n",
    "  hist( ZZ, breaks = 100, freq = FALSE, \n",
    "    xlim = c( min(xbase), max(xbase) ),\n",
    "    main = paste0(\"hist with sample size \", n) )\n",
    "  lines(x = xbase, y = dnorm(xbase), col = \"red\")\n",
    "  return (ZZ)\n",
    "}\n"
   ]
  },
  {
   "cell_type": "code",
   "execution_count": null,
   "id": "b81cf0e4",
   "metadata": {
    "vscode": {
     "languageId": "r"
    }
   },
   "outputs": [],
   "source": [
    "par(mfrow = c(3,1))\n",
    "phist = CLT_plot(2, \"chisq2\")\n",
    "phist = CLT_plot(10, \"chisq2\")\n",
    "phist = CLT_plot(100, \"chisq2\")"
   ]
  },
  {
   "cell_type": "code",
   "execution_count": null,
   "id": "78950b35",
   "metadata": {
    "vscode": {
     "languageId": "r"
    }
   },
   "outputs": [],
   "source": [
    "par(mfrow = c(3,1))\n",
    "phist = CLT_plot(2, \"normal\")\n",
    "phist = CLT_plot(10, \"normal\")\n",
    "phist = CLT_plot(100, \"normal\")"
   ]
  },
  {
   "cell_type": "markdown",
   "id": "b953d3b4",
   "metadata": {
    "pycharm": {
     "name": "#%% md\n"
    }
   },
   "source": []
  }
 ],
 "metadata": {
  "kernelspec": {
   "display_name": "R",
   "language": "R",
   "name": "ir"
  },
  "language_info": {
   "codemirror_mode": "r",
   "file_extension": ".r",
   "mimetype": "text/x-r-source",
   "name": "R",
   "pygments_lexer": "r",
   "version": "4.3.1"
  }
 },
 "nbformat": 4,
 "nbformat_minor": 5
}
